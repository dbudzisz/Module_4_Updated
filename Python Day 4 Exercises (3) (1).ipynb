{
 "cells": [
  {
   "cell_type": "markdown",
   "metadata": {},
   "source": [
    "1. Create a dictionary named pairs with key value pairs of hello and fire, 3 and seven, strong and 45. Print out the dictionary."
   ]
  },
  {
   "cell_type": "code",
   "execution_count": 1,
   "metadata": {},
   "outputs": [
    {
     "name": "stdout",
     "output_type": "stream",
     "text": [
      "{'hello': 'fire', 3: 'seven', 'strong': 45}\n"
     ]
    }
   ],
   "source": [
    "pairs = {'hello':'fire', 3:'seven', 'strong':45}\n",
    "print(pairs)"
   ]
  },
  {
   "cell_type": "markdown",
   "metadata": {},
   "source": [
    "2. Add welcome and 56 pair into pairs dictionary. Print out the dictionary. "
   ]
  },
  {
   "cell_type": "code",
   "execution_count": 16,
   "metadata": {},
   "outputs": [
    {
     "name": "stdout",
     "output_type": "stream",
     "text": [
      "{'hello': 'fire', 3: 'seven', 'strong': 45, 'welcome': 56}\n"
     ]
    }
   ],
   "source": [
    "pairs['welcome'] = 56\n",
    "print(pairs)"
   ]
  },
  {
   "cell_type": "markdown",
   "metadata": {},
   "source": [
    "3. Delete one item from the Dictionary. Print deleted item and the dictionary."
   ]
  },
  {
   "cell_type": "code",
   "execution_count": 17,
   "metadata": {},
   "outputs": [
    {
     "name": "stdout",
     "output_type": "stream",
     "text": [
      "56\n",
      "{'hello': 'fire', 3: 'seven', 'strong': 45}\n"
     ]
    }
   ],
   "source": [
    "del_pair = pairs.pop('welcome')\n",
    "print(del_pair)\n",
    "print(pairs)\n"
   ]
  },
  {
   "cell_type": "markdown",
   "metadata": {},
   "source": [
    "4. Print the value of an item where key is 3 from the dicitonary"
   ]
  },
  {
   "cell_type": "code",
   "execution_count": 20,
   "metadata": {},
   "outputs": [
    {
     "name": "stdout",
     "output_type": "stream",
     "text": [
      "seven\n"
     ]
    }
   ],
   "source": [
    "print(pairs[3])"
   ]
  },
  {
   "cell_type": "markdown",
   "metadata": {},
   "source": [
    "5. Try to find out if the key called hello exist. Print out the key is found if it is there otherwise print out the key is not there."
   ]
  },
  {
   "cell_type": "code",
   "execution_count": 21,
   "metadata": {},
   "outputs": [
    {
     "name": "stdout",
     "output_type": "stream",
     "text": [
      "The key is found\n"
     ]
    }
   ],
   "source": [
    "if 'hello' in pairs:\n",
    "    print('The key is found')\n",
    "else:\n",
    "    print('The key is not there')"
   ]
  },
  {
   "cell_type": "markdown",
   "metadata": {},
   "source": [
    "6. Loop through the dictionary and print out each value. "
   ]
  },
  {
   "cell_type": "code",
   "execution_count": 25,
   "metadata": {},
   "outputs": [
    {
     "name": "stdout",
     "output_type": "stream",
     "text": [
      "fire\n",
      "seven\n",
      "45\n"
     ]
    }
   ],
   "source": [
    "for value in pairs.values():\n",
    "    print(value)\n"
   ]
  },
  {
   "cell_type": "markdown",
   "metadata": {},
   "source": [
    "7. Loop through the dictionary and print out each key."
   ]
  },
  {
   "cell_type": "code",
   "execution_count": 27,
   "metadata": {},
   "outputs": [
    {
     "name": "stdout",
     "output_type": "stream",
     "text": [
      "hello\n",
      "3\n",
      "strong\n"
     ]
    }
   ],
   "source": [
    "for key in pairs.keys():\n",
    "    print(key)"
   ]
  },
  {
   "cell_type": "markdown",
   "metadata": {},
   "source": [
    "8. Loop through the dictionary and print out each key and value pair. "
   ]
  },
  {
   "cell_type": "code",
   "execution_count": 29,
   "metadata": {},
   "outputs": [
    {
     "name": "stdout",
     "output_type": "stream",
     "text": [
      "Key --> hello \t Value --> fire\n",
      "Key --> 3 \t Value --> seven\n",
      "Key --> strong \t Value --> 45\n"
     ]
    }
   ],
   "source": [
    "for k,v in pairs.items():\n",
    "    print(f'Key --> {k} \\t Value --> {v}')"
   ]
  },
  {
   "cell_type": "markdown",
   "metadata": {},
   "source": [
    "9. Make a nested dictionary called parent with 2 children's information: name, age, gender. Print out parent."
   ]
  },
  {
   "cell_type": "code",
   "execution_count": 31,
   "metadata": {},
   "outputs": [
    {
     "name": "stdout",
     "output_type": "stream",
     "text": [
      "{'John': {10: 'Male'}, 'Juliette': {18: 'Female'}}\n"
     ]
    }
   ],
   "source": [
    "parent = {}\n",
    "parent['John'] = {10:'Male'}\n",
    "parent['Juliette'] = {18:'Female'}\n",
    "print(parent)"
   ]
  },
  {
   "cell_type": "markdown",
   "metadata": {},
   "source": [
    "10. Add new child to above dictionary. Print out the name of all children."
   ]
  },
  {
   "cell_type": "code",
   "execution_count": 33,
   "metadata": {},
   "outputs": [
    {
     "name": "stdout",
     "output_type": "stream",
     "text": [
      "John\n",
      "Juliette\n",
      "Jaxon\n"
     ]
    }
   ],
   "source": [
    "parent['Jaxon'] = {15:'Male'}\n",
    "\n",
    "for key in parent.keys():\n",
    "    print(key)"
   ]
  },
  {
   "cell_type": "markdown",
   "metadata": {},
   "source": [
    "11. Create a Test Scores program that gets the name of students and test score from a user. Then, generate a list of students who passed and a list of students who failed where passing test score is 60 or above. "
   ]
  },
  {
   "cell_type": "code",
   "execution_count": 36,
   "metadata": {},
   "outputs": [
    {
     "name": "stdout",
     "output_type": "stream",
     "text": [
      "Please input the student name (or done when finished): Dom\n",
      "Please input the student\\s grade: 90\n",
      "Please input the student name (or done when finished): Sam\n",
      "Please input the student\\s grade: 50\n",
      "Please input the student name (or done when finished): done\n",
      "['Dom']\n",
      "['Sam']\n"
     ]
    }
   ],
   "source": [
    "passed_students = []\n",
    "fail_students = []\n",
    "\n",
    "while True:\n",
    "    name = input('Please input the student name (or done when finished): ')\n",
    "    if name == 'done':\n",
    "        break  \n",
    "    grade = int(input('Please input the student\\s grade: '))\n",
    "    if grade > 60:\n",
    "        passed_students.append(name)\n",
    "    else:\n",
    "        fail_students.append(name)\n",
    "\n",
    "print(passed_students)\n",
    "print(fail_students)\n",
    "        "
   ]
  },
  {
   "cell_type": "markdown",
   "metadata": {},
   "source": [
    "12. Create a Word Counter program that gets a string of text from a user and then counts the number of times a word occrs in the string. \n",
    "\n",
    "The output should look something like this:\n",
    "\n",
    "    The Word Counter Program\n",
    "    \n",
    "    Enter a text string: \n",
    "    Humpty Dumpty sat on a wall, Humpty Dumpty had a great fall. All the king’s horses and all the king’s men couldn’t put Humpty together again.\n",
    "\n",
    "    a : 2\n",
    "    again : 1\n",
    "    all : 2\n",
    "    and : 1\n",
    "    couldn’t : 1\n",
    "    dumpty : 2\n",
    "    fall : 1\n",
    "    great : 1\n",
    "    had : 1\n",
    "    horses : 1\n",
    "    humpty : 3\n",
    "    king’s : 2\n",
    "    men : 1\n",
    "    on : 1\n",
    "    put : 1\n",
    "    sat : 1\n",
    "    the : 2\n",
    "    together : 1\n",
    "    wall : 1\n",
    "\n",
    "    There were total 26 words in the text string   "
   ]
  },
  {
   "cell_type": "code",
   "execution_count": 54,
   "metadata": {},
   "outputs": [
    {
     "name": "stdout",
     "output_type": "stream",
     "text": [
      "The Word Counter Program\n",
      "\n",
      "Enter a text string:\n",
      " Humpty Dumpty sat on a wall, Humpty Dumpty had a great fall. All the king’s horses and all the king’s men couldn’t put Humpty together again.\n",
      "\n",
      "\n",
      "a:2\n",
      "again:1\n",
      "all:2\n",
      "and:1\n",
      "couldn’t:1\n",
      "dumpty:2\n",
      "fall:1\n",
      "great:1\n",
      "had:1\n",
      "horses:1\n",
      "humpty:3\n",
      "king’s:2\n",
      "men:1\n",
      "on:1\n",
      "put:1\n",
      "sat:1\n",
      "the:2\n",
      "together:1\n",
      "wall:1\n",
      "\n",
      "\n",
      "There were a total of 19 words in the text string\n"
     ]
    }
   ],
   "source": [
    "print('The Word Counter Program')\n",
    "print('')\n",
    "text = input('Enter a text string:\\n ')\n",
    "print('\\n')\n",
    "\n",
    "text_replace = text.replace(',','')\n",
    "text_replace_two = text_replace.replace('.', '')\n",
    "text_lower = text_replace_two.lower()\n",
    "text_split = text_lower.split()\n",
    "\n",
    "tmp =[]\n",
    "word_dict = {}\n",
    "count = 0\n",
    "for word in text_split:\n",
    "    word_dict[word] = word_dict.get(word, 0) + 1\n",
    "    \n",
    "for k,v in word_dict.items():\n",
    "    newt = (k,v)\n",
    "    tmp.append(newt)\n",
    "    count += 1\n",
    "\n",
    "tmp = sorted(tmp)\n",
    "\n",
    "for k,v in tmp:\n",
    "    print(f'{k}:{v}')\n",
    "\n",
    "print('\\n')\n",
    "print(f'There were a total of {count} words in the text string')"
   ]
  },
  {
   "cell_type": "code",
   "execution_count": null,
   "metadata": {},
   "outputs": [],
   "source": []
  }
 ],
 "metadata": {
  "kernelspec": {
   "display_name": "Python 3",
   "language": "python",
   "name": "python3"
  },
  "language_info": {
   "codemirror_mode": {
    "name": "ipython",
    "version": 3
   },
   "file_extension": ".py",
   "mimetype": "text/x-python",
   "name": "python",
   "nbconvert_exporter": "python",
   "pygments_lexer": "ipython3",
   "version": "3.8.3"
  }
 },
 "nbformat": 4,
 "nbformat_minor": 4
}
